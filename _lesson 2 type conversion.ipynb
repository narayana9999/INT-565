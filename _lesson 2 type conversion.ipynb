{
 "cells": [
  {
   "cell_type": "code",
   "execution_count": 1,
   "metadata": {},
   "outputs": [
    {
     "name": "stdout",
     "output_type": "stream",
     "text": [
      "enter the value of a: 3\n",
      "enter the value of b: 4\n",
      "product of 3 and 4 is: 12\n"
     ]
    }
   ],
   "source": [
    "a= int(input(\"enter the value of a: \"))\n",
    "b= int(input(\"enter the value of b: \"))\n",
    "print(f\"product of {a} and {b} is: {a * b}\")"
   ]
  },
  {
   "cell_type": "code",
   "execution_count": 5,
   "metadata": {},
   "outputs": [
    {
     "name": "stdout",
     "output_type": "stream",
     "text": [
      "enter the age of a person: 22\n",
      "2002\n",
      "no of days completed from his birth year: 730730\n"
     ]
    }
   ],
   "source": [
    "age= int(input(\"enter the age of a person: \"))\n",
    "b_y= 2024-age\n",
    "print(b_y)\n",
    "print(f\"no of days completed from his birth year: {b_y * 365}\")\n"
   ]
  },
  {
   "cell_type": "code",
   "execution_count": 4,
   "metadata": {},
   "outputs": [
    {
     "name": "stdout",
     "output_type": "stream",
     "text": [
      "enter the price34\n",
      "enter tip:50\n",
      "tip is 17\n"
     ]
    }
   ],
   "source": [
    "price= int(input(\"enter the price: \"))\n",
    "p_tip= int(input(\"enter tip: \"))\n",
    "tip= price * p_tip/100\n",
    "print(f\"tip is {round(tip)}\")"
   ]
  },
  {
   "cell_type": "code",
   "execution_count": null,
   "metadata": {},
   "outputs": [],
   "source": []
  }
 ],
 "metadata": {
  "kernelspec": {
   "display_name": "Python 3",
   "language": "python",
   "name": "python3"
  },
  "language_info": {
   "codemirror_mode": {
    "name": "ipython",
    "version": 3
   },
   "file_extension": ".py",
   "mimetype": "text/x-python",
   "name": "python",
   "nbconvert_exporter": "python",
   "pygments_lexer": "ipython3",
   "version": "3.7.4"
  }
 },
 "nbformat": 4,
 "nbformat_minor": 2
}
