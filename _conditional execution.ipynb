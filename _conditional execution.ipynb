{
 "cells": [
  {
   "cell_type": "code",
   "execution_count": 1,
   "metadata": {},
   "outputs": [
    {
     "name": "stdout",
     "output_type": "stream",
     "text": [
      "enter hrs: 6\n",
      "enter the rate per hr: 2000\n",
      "gross pay is: 12000.0\n"
     ]
    }
   ],
   "source": [
    "#write a programme to prompt the user for hrs and rate per hour to compute the gross pay\n",
    "hrs=float(input(\"enter hrs: \"))\n",
    "rt_hrs=float(input(\"enter the rate per hr: \"))\n",
    "print(f'gross pay is: { hrs*rt_hrs}')"
   ]
  },
  {
   "cell_type": "markdown",
   "metadata": {},
   "source": [
    " -Nested condition\n",
    " -one way condition\n",
    " -Two way condition\n",
    " -Multi way condition "
   ]
  },
  {
   "cell_type": "markdown",
   "metadata": {},
   "source": [
    "rewrite your pay computation give the employee 1.5times the hourly rate for hours worked above 40hrs"
   ]
  },
  {
   "cell_type": "code",
   "execution_count": 2,
   "metadata": {},
   "outputs": [
    {
     "name": "stdout",
     "output_type": "stream",
     "text": [
      "enter hours: r\n",
      "enter rate: 6\n",
      "enter the hrs in digits\n"
     ]
    }
   ],
   "source": [
    "try:\n",
    "    hrs=input(\"enter hours: \")\n",
    "    rt= input(\"enter rate: \")\n",
    "    if hrs < 40:\n",
    "        print(f'the pay is {hrs*rt}')\n",
    "    else:\n",
    "        print(f'the pay is {40*rt + (hrs-40)*1.5*rt}')\n",
    "except:\n",
    "    if type(hrs) != float:\n",
    "        print(\"enter the hrs in digits\")\n",
    "    else:\n",
    "        print(\"enter the rt in digits\")"
   ]
  },
  {
   "cell_type": "code",
   "execution_count": null,
   "metadata": {},
   "outputs": [],
   "source": [
    "type(hrs)"
   ]
  }
 ],
 "metadata": {
  "kernelspec": {
   "display_name": "Python 3",
   "language": "python",
   "name": "python3"
  },
  "language_info": {
   "codemirror_mode": {
    "name": "ipython",
    "version": 3
   },
   "file_extension": ".py",
   "mimetype": "text/x-python",
   "name": "python",
   "nbconvert_exporter": "python",
   "pygments_lexer": "ipython3",
   "version": "3.7.4"
  }
 },
 "nbformat": 4,
 "nbformat_minor": 2
}
